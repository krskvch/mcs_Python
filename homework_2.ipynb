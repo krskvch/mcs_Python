{
 "cells": [
  {
   "cell_type": "markdown",
   "metadata": {},
   "source": [
    "1 Представьте матрицу 3x3 в виде списка, содержащего три других списка, по одному в ряд:\n",
    "\n",
    "2 Оформите эту программу с функцией, которая на вход принимает размер матрицы n и m, а заполнение матрицы происходит при помощи функции random.randint(1, 9) из модуля randon"
   ]
  },
  {
   "cell_type": "code",
   "execution_count": 1,
   "metadata": {},
   "outputs": [
    {
     "name": "stdout",
     "output_type": "stream",
     "text": [
      "Введите количество символов в ширину:\n",
      "3\n",
      "Введите количество символов в высоту:\n",
      "5\n",
      "[0, 6, 4]\n",
      "[8, 2, 9]\n",
      "[9, 5, 6]\n",
      "[3, 5, 9]\n",
      "[1, 9, 3]\n"
     ]
    }
   ],
   "source": [
    "import random\n",
    "print(\"Введите количество символов в ширину:\")\n",
    "l = int(input())\n",
    "print(\"Введите количество символов в высоту:\")\n",
    "h = int(input())\n",
    "a = []\n",
    "k = 0\n",
    "\n",
    "for matrix in range(h):\n",
    "    a.append([])\n",
    "    for c in range(l):\n",
    "        a[matrix].append(k)\n",
    "        k = random.randint(1,9)\n",
    "\n",
    "for matrix in a:\n",
    "    print(matrix)"
   ]
  },
  {
   "cell_type": "markdown",
   "metadata": {},
   "source": [
    "3 Пользователь делает вклад в размере ’x’ рублей сроком на ‘years’ лет под 13% годовых (Это значит, что каждый год размер его вклада увеличивается на 13%. Эти деньги прибавляются к сумме вклада, и на них в следующем году тоже будут проценты).\n",
    "Написать функцию storage, принимающая аргументы ‘x’ и ‘years’, и возвращающую сумму, которая будет на счету пользователя."
   ]
  },
  {
   "cell_type": "code",
   "execution_count": 4,
   "metadata": {},
   "outputs": [
    {
     "name": "stdout",
     "output_type": "stream",
     "text": [
      "Сумма вклада:\n",
      "10000\n",
      "Срок вклада:\n",
      "5\n",
      "18424.351793\n"
     ]
    }
   ],
   "source": [
    "print('Сумма вклада:')\n",
    "x=int(input())\n",
    "print('Срок вклада:')\n",
    "years=int(input())\n",
    "viplata=0\n",
    "def storage(x, years):\n",
    "    for i in range(years):\n",
    "        viplata = x * 0.13\n",
    "        x = x + viplata\n",
    "    return x\n",
    "\n",
    "print(storage(x, years))"
   ]
  },
  {
   "cell_type": "markdown",
   "metadata": {},
   "source": [
    "4* Написать программу- переводчик из RU-EN в EN-RU На вход подается файл ru-en.txt с таким содержимым: Яблоко - Apple\n",
    "Апельсин - Orange\n",
    "Оранжевый - Orange\n",
    "Груша - Pear\n",
    "Виноград – Grapes\n",
    "Нужно получить файл словаря en-ru.txt"
   ]
  },
  {
   "cell_type": "code",
   "execution_count": null,
   "metadata": {
    "collapsed": true
   },
   "outputs": [],
   "source": [
    "f = open('ru-en.txt')\n",
    "ru_dict = dict()\n",
    "en = []\n",
    "ru = []\n",
    "for line in f:\n",
    "    words = line.strip().split(' - ')\n",
    "    ru.append(words[0])\n",
    "    en.append(words[1])\n",
    "    k=0\n",
    "    for key in en:\n",
    "        ru_dict[key] = ru[k]\n",
    "        k += 1\n",
    "f.close()\n",
    "\n",
    "out = open('en-ru.txt', 'w')\n",
    "for en in en:\n",
    "    if en in ru_dict:\n",
    "        out.write(en + \" - \" + ru_dict[en] + '\\n')\n",
    "\n",
    "out.close()"
   ]
  }
 ],
 "metadata": {
  "kernelspec": {
   "display_name": "Python 3",
   "language": "python",
   "name": "python3"
  },
  "language_info": {
   "codemirror_mode": {
    "name": "ipython",
    "version": 3
   },
   "file_extension": ".py",
   "mimetype": "text/x-python",
   "name": "python",
   "nbconvert_exporter": "python",
   "pygments_lexer": "ipython3",
   "version": "3.6.1"
  }
 },
 "nbformat": 4,
 "nbformat_minor": 2
}
